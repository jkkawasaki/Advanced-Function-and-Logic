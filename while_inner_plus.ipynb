{
 "cells": [
  {
   "cell_type": "markdown",
   "id": "206f1901-057a-47c3-b308-9765a16b83c5",
   "metadata": {},
   "source": [
    "1. Write a python program that, given an input list of any level of complexity/nestedness, will return the inner most list plus 1. This is to be done with a while loop. Note: the input will contain only integers or lists. \n",
    "As an example:\n",
    "\n",
    "input_list = [1,2,3,4,[5,6,7,[8,9]]]\n",
    "\n",
    "your_py_program.py input_list\n",
    "\n",
    "will produce:\n",
    "\n",
    "[9,10]\n",
    "\n",
    "That is [8, 9] (the inner most list) plus 1 -> [9, 10]"
   ]
  },
  {
   "cell_type": "code",
   "execution_count": 7,
   "id": "1882ba5f-452b-4a7a-96b7-33b1f84bde80",
   "metadata": {},
   "outputs": [
    {
     "name": "stdout",
     "output_type": "stream",
     "text": [
      "[9, 10]\n"
     ]
    }
   ],
   "source": [
    "def find_deepest_while(input_list):\n",
    "    max_depth = 0\n",
    "    deepest_list = None\n",
    "    working_list = [(input_list, 0)]  # place to store lists and their current depths\n",
    "\n",
    "    while len(working_list) != 0:\n",
    "        current_list, current_depth = working_list.pop()\n",
    "\n",
    "        if current_depth > max_depth:\n",
    "            max_depth = current_depth\n",
    "            deepest_list = current_list\n",
    "\n",
    "        for item in current_list:\n",
    "            if isinstance(item, list):\n",
    "                working_list.append((item, current_depth + 1))\n",
    "    \n",
    "    for i in range(len(deepest_list)):\n",
    "        deepest_list[i] += 1\n",
    "    \n",
    "    return deepest_list\n",
    "    \n",
    "\n",
    "input_list = [1,2,3,4,[5,6,7,[8,9]]]\n",
    "results = find_deepest_while(input_list)\n",
    "print(results)"
   ]
  }
 ],
 "metadata": {
  "kernelspec": {
   "display_name": "Python 3 (ipykernel)",
   "language": "python",
   "name": "python3"
  },
  "language_info": {
   "codemirror_mode": {
    "name": "ipython",
    "version": 3
   },
   "file_extension": ".py",
   "mimetype": "text/x-python",
   "name": "python",
   "nbconvert_exporter": "python",
   "pygments_lexer": "ipython3",
   "version": "3.12.5"
  }
 },
 "nbformat": 4,
 "nbformat_minor": 5
}
