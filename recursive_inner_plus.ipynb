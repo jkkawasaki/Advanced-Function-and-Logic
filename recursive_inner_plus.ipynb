{
 "cells": [
  {
   "cell_type": "markdown",
   "id": "f7e66a16-4e15-480e-b029-859ac4b2ea8f",
   "metadata": {},
   "source": [
    "1. Write a python program that, given an input list of any level of complexity/nestedness, will return the inner most list plus 1. This is to be done with a while loop. Note: the input will contain only integers or lists. \n",
    "As an example:\n",
    "\n",
    "input_list = [1,2,3,4,[5,6,7,[8,9]]]\n",
    "\n",
    "your_py_program.py input_list\n",
    "\n",
    "will produce:\n",
    "\n",
    "[9,10]\n",
    "\n",
    "That is [8, 9] (the inner most list) plus 1 -> [9, 10]\n",
    "\n",
    "2. Write the a python program that, given an input list of any level of complexity/nestedness, will return the inner most list plus 1. This is to be done with recursion. Note: the input will contain only integers or lists. \n",
    "\n",
    "3. Write a python program that, given an input list, will filter the input above a user defined threshold. This is to be done with a standard function.\n",
    "That is, given a list [1,2,3,4,5,6,7,8,9], and an argument (6), it should return [1,2,3,4,5,6]"
   ]
  },
  {
   "cell_type": "code",
   "execution_count": 2,
   "id": "792f3d3f-86b0-4be7-ad05-36ecf8b8fa39",
   "metadata": {},
   "outputs": [
    {
     "name": "stdout",
     "output_type": "stream",
     "text": [
      "[9, 10]\n"
     ]
    }
   ],
   "source": [
    "def recursive_inner_plus(input_list, current_depth=0):\n",
    "    max_depth = current_depth\n",
    "    deepest_list = input_list\n",
    "\n",
    "    for item in input_list:\n",
    "        if isinstance(item, list):\n",
    "            new_depth, new_deepest = recursive_inner_plus(item, current_depth + 1)\n",
    "            if new_depth > max_depth:\n",
    "                max_depth = new_depth\n",
    "                deepest_list = new_deepest\n",
    "    \n",
    "    if current_depth == max_depth:\n",
    "        for i in range(len(deepest_list)):\n",
    "            deepest_list[i] += 1\n",
    "    \n",
    "    return max_depth, deepest_list\n",
    "\n",
    "\n",
    "input_list = [1,2,3,4,[5,6,7,[8,9]]]\n",
    "results = recursive_inner_plus(input_list)\n",
    "print(results[1])"
   ]
  }
 ],
 "metadata": {
  "kernelspec": {
   "display_name": "Python 3 (ipykernel)",
   "language": "python",
   "name": "python3"
  },
  "language_info": {
   "codemirror_mode": {
    "name": "ipython",
    "version": 3
   },
   "file_extension": ".py",
   "mimetype": "text/x-python",
   "name": "python",
   "nbconvert_exporter": "python",
   "pygments_lexer": "ipython3",
   "version": "3.12.5"
  }
 },
 "nbformat": 4,
 "nbformat_minor": 5
}
